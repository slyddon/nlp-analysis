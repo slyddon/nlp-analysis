{
 "cells": [
  {
   "cell_type": "markdown",
   "metadata": {},
   "source": [
    "## Analysis of _Around the World in 80 days_\n",
    "### Author: __Sam Lyddon__\n",
    "***\n",
    "\n",
    "This analysis uses entity recognition to extract the locations travelled to within the book _Around the World in 80 days_, and to compare them against the more general route locations obtained through manual extraction."
   ]
  },
  {
   "cell_type": "code",
   "execution_count": 1,
   "metadata": {},
   "outputs": [],
   "source": [
    "import sys\n",
    "sys.path.append(\"..\")"
   ]
  },
  {
   "cell_type": "code",
   "execution_count": 2,
   "metadata": {},
   "outputs": [],
   "source": [
    "from pathlib import Path\n",
    "from collections import Counter\n",
    "import gensim.corpora as corpora\n",
    "import gensim.models as models\n",
    "import matplotlib.pyplot as plt\n",
    "import cartopy.crs as ccrs\n",
    "\n",
    "from src import RequestHandler, Document"
   ]
  },
  {
   "cell_type": "code",
   "execution_count": 3,
   "metadata": {},
   "outputs": [],
   "source": [
    "%load_ext autoreload\n",
    "%autoreload 2"
   ]
  },
  {
   "cell_type": "code",
   "execution_count": 4,
   "metadata": {},
   "outputs": [
    {
     "name": "stdout",
     "output_type": "stream",
     "text": [
      "last updated: 2020-03-02 16:25:58\n",
      "CPython 3.7.6\n",
      "IPython 7.12.0\n"
     ]
    }
   ],
   "source": [
    "%load_ext watermark\n",
    "%watermark -d -t -u\n",
    "%watermark -iv -v"
   ]
  },
  {
   "cell_type": "code",
   "execution_count": 5,
   "metadata": {},
   "outputs": [],
   "source": [
    "%load_ext lab_black"
   ]
  },
  {
   "cell_type": "markdown",
   "metadata": {},
   "source": [
    "### Pull in the text\n",
    "***"
   ]
  },
  {
   "cell_type": "code",
   "execution_count": 40,
   "metadata": {},
   "outputs": [],
   "source": [
    "rq = RequestHandler()\n",
    "\n",
    "# scrape the text from a web source\n",
    "# save to local file\n",
    "data_path = Path(\"./../data/pg103.txt\")\n",
    "book_path = \"http://www.gutenberg.org/cache/epub/103/pg103.txt\"\n",
    "if not data_path.is_file():\n",
    "    text = rq.scrape_text(book_path)\n",
    "    data_path.write_text(text)\n",
    "else:\n",
    "    text = data_path.read_text()"
   ]
  },
  {
   "cell_type": "markdown",
   "metadata": {},
   "source": [
    "### Read the text\n",
    "***"
   ]
  },
  {
   "cell_type": "code",
   "execution_count": 41,
   "metadata": {},
   "outputs": [
    {
     "name": "stdout",
     "output_type": "stream",
     "text": [
      "Celebrated Travels and Travellers - Jules Verne - March 7, 2008 [EBook #24777] - English\n"
     ]
    }
   ],
   "source": [
    "doc = Document(text)\n",
    "print(f\"{doc.title} - {doc.author} - {doc.release_date} - {doc.language}\")"
   ]
  },
  {
   "cell_type": "code",
   "execution_count": 42,
   "metadata": {},
   "outputs": [
    {
     "name": "stdout",
     "output_type": "stream",
     "text": [
      "CELEBRATED TRAVELLERS FROM THE FIRST TO THE NINTH CENTURY.\n"
     ]
    },
    {
     "data": {
      "text/plain": [
       "['town - century - country - traveller - account - church - great - say - Lord - visit',\n",
       " 'church - Lord - century - traveller - place - St. - account - China - Mount - Soleyman']"
      ]
     },
     "execution_count": 42,
     "metadata": {},
     "output_type": "execute_result"
    }
   ],
   "source": [
    "chap_no = 15\n",
    "print(doc.chapters[chap_no].chapter_header)\n",
    "[\n",
    "    \" - \".join(w for w, score in features)\n",
    "    for idx, features in doc.chapters[chap_no].get_topics(10)[:2]\n",
    "]"
   ]
  },
  {
   "cell_type": "code",
   "execution_count": 43,
   "metadata": {},
   "outputs": [
    {
     "name": "stdout",
     "output_type": "stream",
     "text": [
      "['human', 'machine', 'interface', 'lab', 'abc', 'computer', 'application']\n"
     ]
    },
    {
     "data": {
      "text/plain": [
       "('\"The Tartars believe in God as the Creator of the universe and as the Rewarder and Avenger of all, but they also worship the sun, moon, fire, earth, and water, and idols made in felt, like human beings. They have little toleration, and put Michael of Turnigoo and Féodor to death for not worshipping the sun at midday at the command of Prince Bathy. They are a superstitious people, believing in enchantment and sorcery, and looking upon fire as the purifier of all things. When one of their chiefs dies he is buried with a horse saddled and bridled, a table, a dish of meat, a cup of mare\\'s milk, and a mare and foal.',\n",
       " 0.5888932)"
      ]
     },
     "execution_count": 43,
     "metadata": {},
     "output_type": "execute_result"
    }
   ],
   "source": [
    "doc.search_paragraphs(\"Human machine interface for lab abc computer applications\")"
   ]
  },
  {
   "cell_type": "code",
   "execution_count": 44,
   "metadata": {},
   "outputs": [
    {
     "name": "stdout",
     "output_type": "stream",
     "text": [
      "['cannon', 'fire', 'fury', 'fire']\n"
     ]
    },
    {
     "data": {
      "text/plain": [
       "('Thibet abounds in lions, bears, and other savage animals, from which the travellers would have much difficulty in defending themselves had it not been for the quantity of large thick canes that grow there, which are probably bamboos: he says, \"the merchants and travellers passing through these countries at night collect a quantity of these canes and make a large fire of them, for when they are burning they make such a noise and crackle so much, that the lions, bears, and other wild beasts take flight to a distance, and would not approach these fires on any account; thus both men, horses, and camels are safe. In another way, too, protection is afforded by throwing a number of these canes on a wood fire, and when they become heated and split, and the sap hisses, the sound is heard at least ten miles off. When any one is not accustomed to this noise, it is so terrifying that even the horses will break away from their cords and tethers; so their owners often bandage their eyes and tie their feet together to prevent their running away.\" This method of burning canes is still used in countries where the bamboo grows, and indeed the noise may be compared to the loudest explosion of fire-works.',\n",
       " 0.689903)"
      ]
     },
     "execution_count": 44,
     "metadata": {},
     "output_type": "execute_result"
    }
   ],
   "source": [
    "doc.search_paragraphs(\"Out of the cannon fired fury! Fire!\")"
   ]
  },
  {
   "cell_type": "code",
   "execution_count": 45,
   "metadata": {},
   "outputs": [
    {
     "name": "stdout",
     "output_type": "stream",
     "text": [
      "['south', 'west', 'wind', 'direction']\n"
     ]
    },
    {
     "data": {
      "text/plain": [
       "(\"Meanwhile, the four caravels of Columbus, denied access to the harbour, had been driven before the storm. They were separated one from the other, and disabled, but they succeeded in meeting together again, and by the 14th of July, the squall had carried them within sight of Jamaica. Arrived there, strong currents bore them towards the islands called the Queen's Garden, and then in the direction of east-south-east. The little flotilla contended for sixty days against the wind without making more than 210 miles, and at length was driven towards the coast of Cuba, which led to the discovery of Cayman and Pinos Islands.\",\n",
       " 0.7551625)"
      ]
     },
     "execution_count": 45,
     "metadata": {},
     "output_type": "execute_result"
    }
   ],
   "source": [
    "doc.search_paragraphs(\"Is it south or west? What is the wind direction? \")"
   ]
  },
  {
   "cell_type": "code",
   "execution_count": 46,
   "metadata": {},
   "outputs": [
    {
     "name": "stdout",
     "output_type": "stream",
     "text": [
      "['steamer', 'Mongolia', 'hopefully', 'water', 'fresh', 'stormy']\n"
     ]
    },
    {
     "data": {
      "text/plain": [
       "('This last is a large town containing fine squares and shops. It never rains there, but this want is supplied by the overflow of the Nile once a year, which waters the country and renders it very fertile.',\n",
       " 0.5408858)"
      ]
     },
     "execution_count": 46,
     "metadata": {},
     "output_type": "execute_result"
    }
   ],
   "source": [
    "doc.search_paragraphs(\n",
    "    \"Where is the steamer Mongolia? Hopefully the water is fresh and not too stormy\"\n",
    ")"
   ]
  },
  {
   "cell_type": "code",
   "execution_count": 47,
   "metadata": {},
   "outputs": [
    {
     "name": "stdout",
     "output_type": "stream",
     "text": [
      "['ship']\n"
     ]
    },
    {
     "data": {
      "text/plain": [
       "('Columbus now believed himself to be arrived near the mouth of the Ganges, and from the natives speaking of a certain province of Ciguare, which was surrounded by the sea, he felt himself confirmed in this opinion. They declared that it was a country containing rich gold-mines, of which the most important was situated seventy-five miles to the south. When the admiral again set sail, he followed the wooded coast of Veragua, where the Indians appeared to be very wild. On the 26th of November, the flotilla entered the harbour of El Retrete, which is now the port of Escribanos. The ships battered by the winds, were now in a most miserable plight; it was absolutely necessary to repair the damage they had sustained, and for this purpose to prolong the stay at El Retrete. Upon quitting this harbour Columbus was met by a storm even more dreadful than those which had preceded it: \"During nine days,\" he says, \"I remained without hope of being saved. Never did any man see a more violent or terrible sea; it was covered with foam, the wind permitted no ships to advance, nor to steer towards any cape; I was kept in that sea, of which the waves seemed to be of blood, and the surges boiled as though heated by fire. Never have I seen so appalling an aspect of the heavens: on fire during one whole day and night like a furnace, they sent forth thunder and flame incessantly, and I feared each moment that the masts and sails would be carried away. The growling of the thunder was so horrible that it appeared sufficient to crush our vessels; and during the whole time the rain fell with such violence that one could scarcely call it rain, but rather a second Deluge. My sailors, overcome by so much trouble and suffering, prayed for death as putting a term to their miseries; my ships opened in all directions, and boats, anchors, ropes, and sails were once again lost.\"',\n",
       " 0.63030803)"
      ]
     },
     "execution_count": 47,
     "metadata": {},
     "output_type": "execute_result"
    }
   ],
   "source": [
    "doc.search_paragraphs(\"ships\")"
   ]
  },
  {
   "cell_type": "code",
   "execution_count": 48,
   "metadata": {},
   "outputs": [
    {
     "name": "stdout",
     "output_type": "stream",
     "text": [
      "['game', 'solitaire']\n"
     ]
    },
    {
     "data": {
      "text/plain": [
       "(\"Seven days' journey further on they came to the beautiful commercial city of Pianfou, now called Pin-yang-foo, where the manufacture of silk was carried on. He soon afterwards came to the banks of the Yellow River, which he calls Caramoran or Black River, probably on account of its waters being darkened by the aquatic plants growing in them; at two days' journey from hence he came to the town of Cacianfu, whose position is not now clearly defined. He found nothing remarkable in this town, and leaving it he rode across a beautiful country, covered with towns, country-houses, and gardens, and abounding in game.\",\n",
       " 0.5456555)"
      ]
     },
     "execution_count": 48,
     "metadata": {},
     "output_type": "execute_result"
    }
   ],
   "source": [
    "doc.search_paragraphs(\"the game of solitaire\")"
   ]
  },
  {
   "cell_type": "code",
   "execution_count": null,
   "metadata": {},
   "outputs": [],
   "source": []
  }
 ],
 "metadata": {
  "kernelspec": {
   "display_name": "Python 3",
   "language": "python",
   "name": "python3"
  },
  "language_info": {
   "codemirror_mode": {
    "name": "ipython",
    "version": 3
   },
   "file_extension": ".py",
   "mimetype": "text/x-python",
   "name": "python",
   "nbconvert_exporter": "python",
   "pygments_lexer": "ipython3",
   "version": "3.7.6"
  }
 },
 "nbformat": 4,
 "nbformat_minor": 4
}
